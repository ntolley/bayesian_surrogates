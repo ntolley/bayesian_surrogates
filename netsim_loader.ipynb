{
 "cells": [
  {
   "cell_type": "code",
   "execution_count": 8,
   "metadata": {},
   "outputs": [],
   "source": [
    "import os.path as op\n",
    "import numpy as np\n",
    "import matplotlib.pyplot as plt\n",
    "import torch\n",
    "import torch.nn as nn\n",
    "import hnn_core\n",
    "from hnn_core import calcium_model, simulate_dipole, read_params, pick_connection\n",
    "from hnn_core.network_models import add_erp_drives_to_jones_model\n",
    "from hnn_core.network_builder import NetworkBuilder\n",
    "from hnn_core.cell import _get_gaussian_connection\n",
    "from sklearn.model_selection import ShuffleSplit\n",
    "from sklearn.linear_model import LinearRegression\n",
    "from sklearn.decomposition import PCA\n",
    "from sklearn.preprocessing import StandardScaler\n",
    "import utils\n",
    "from utils import SingleNeuron_Data, Network_Data\n",
    "import multiprocessing\n",
    "device = torch.device(\"cuda:0\")\n",
    "num_cores = multiprocessing.cpu_count()"
   ]
  },
  {
   "cell_type": "code",
   "execution_count": 9,
   "metadata": {},
   "outputs": [],
   "source": [
    "def add_noise(net):\n",
    "    rate = 10\n",
    "    weight = 0.01\n",
    "    # Add Poisson drives\n",
    "    weights_ampa_d1 = {'L2_pyramidal': weight, 'L5_pyramidal': weight,\n",
    "                       'L2_basket': weight}\n",
    "    rates_d1 = {'L2_pyramidal': rate, 'L5_pyramidal': rate, 'L2_basket': rate}\n",
    "\n",
    "    net.add_poisson_drive(\n",
    "        name='distal', tstart=0, tstop=None, rate_constant=rates_d1, location='distal', n_drive_cells='n_cells',\n",
    "        cell_specific=True, weights_ampa=weights_ampa_d1, weights_nmda=None, space_constant=1e50,\n",
    "        synaptic_delays=0.0, probability=1.0, event_seed=1, conn_seed=2)\n",
    "\n",
    "    weights_ampa_p1 = {'L2_pyramidal': weight, 'L5_pyramidal': weight,\n",
    "                       'L2_basket': weight, 'L5_basket': weight}\n",
    "    rates_p1 = {'L2_pyramidal': rate, 'L5_pyramidal': rate, 'L2_basket': rate, 'L5_basket': rate}\n",
    "\n",
    "    net.add_poisson_drive(\n",
    "        name='proximal', tstart=0, tstop=None, rate_constant=rates_p1, location='proximal', n_drive_cells='n_cells',\n",
    "        cell_specific=True, weights_ampa=weights_ampa_p1, weights_nmda=None, space_constant=1e50,\n",
    "        synaptic_delays=0.0, probability=1.0, event_seed=3, conn_seed=4)"
   ]
  },
  {
   "cell_type": "code",
   "execution_count": 10,
   "metadata": {},
   "outputs": [],
   "source": [
    "%%capture\n",
    "hnn_core_root = op.dirname(hnn_core.__file__)\n",
    "params_fname = op.join(hnn_core_root, 'param', 'default.json')\n",
    "params = read_params(params_fname)\n",
    "params.update({'N_pyr_x': 3, 'N_pyr_y': 3})\n",
    "net = calcium_model(params)\n",
    "add_noise(net)\n",
    "\n",
    "dt = 0.5\n",
    "dpl = simulate_dipole(net, dt=dt, tstop=1000, record_vsec='all', record_isec='all')"
   ]
  },
  {
   "cell_type": "code",
   "execution_count": 11,
   "metadata": {},
   "outputs": [
    {
     "name": "stdout",
     "output_type": "stream",
     "text": [
      "Building the NEURON model\n",
      "[Done]\n"
     ]
    }
   ],
   "source": [
    "net_build = NetworkBuilder(net)"
   ]
  },
  {
   "cell_type": "code",
   "execution_count": null,
   "metadata": {},
   "outputs": [],
   "source": []
  },
  {
   "cell_type": "code",
   "execution_count": null,
   "metadata": {},
   "outputs": [],
   "source": []
  },
  {
   "cell_type": "code",
   "execution_count": 58,
   "metadata": {},
   "outputs": [],
   "source": [
    "class CellType_Dataset(torch.utils.data.Dataset):\n",
    "    #'Characterizes a dataset for PyTorch'\n",
    "    def __init__(self, net, cell_type='L5_pyramidal', data_step_size=1,\n",
    "                 window_size=100, input_spike_scaler=None, vsec_scaler=None, isec_scaler=None,\n",
    "                 device='cpu'):\n",
    "        \n",
    "        network_data = Network_Data(net)\n",
    "        self.cell_type = cell_type\n",
    "        self.num_cells = len(network_data.net.gid_ranges[self.cell_type])\n",
    "        self.data_step_size = data_step_size\n",
    "        self.window_size = window_size\n",
    "        self.device = device\n",
    "\n",
    "        self.vsec_names = network_data.neuron_data_dict[list(net.gid_ranges[cell_type])[0]].vsec_names\n",
    "        self.isec_names = network_data.neuron_data_dict[list(net.gid_ranges[cell_type])[0]].isec_names\n",
    "\n",
    "        self.input_spike_list, self.vsec_list, self.isec_list = self.process_data(network_data)\n",
    "        assert len(self.input_spike_list) == len(self.vsec_list) == len(self.isec_list) == self.num_cells\n",
    "\n",
    "        if input_spike_scaler is None:\n",
    "            self.input_spike_scaler = StandardScaler()\n",
    "            self.input_spike_scaler.fit(np.vstack(self.input_spike_list))\n",
    "        else:\n",
    "            self.input_spike_scaler = input_spike_scaler\n",
    "        \n",
    "        if vsec_scaler is None:\n",
    "            self.vsec_scaler = StandardScaler()\n",
    "            self.vsec_scaler.fit(np.vstack(self.vsec_list))\n",
    "        else:\n",
    "            self.vsec_scaler = vsec_scaler\n",
    "        \n",
    "        if isec_scaler is None:\n",
    "            self.isec_scaler = StandardScaler()\n",
    "            self.isec_scaler.fit(np.vstack(self.isec_list))\n",
    "        else:\n",
    "            self.isec_scaler = isec_scaler\n",
    " \n",
    "\n",
    "        self.input_spike_list, self.vsec_list, self.isec_list = self.transform_data()\n",
    "        \n",
    "        # X is one step behind y\n",
    "        # self.X_tensor = self.input_spike_unfolded[:, :-1, :]\n",
    "        # self.y_tensor = self.vsec_unfolded[:, 1:, :]\n",
    "        # assert self.X_tensor.shape[0] == self.y_tensor.shape[0]\n",
    "        # self.num_samples = self.X_tensor.shape[0]\n",
    "\n",
    "        # self.X_tensor = self.X_tensor.float().to(self.device)\n",
    "        # self.y_tensor = self.y_tensor.float().to(self.device)\n",
    "\n",
    "    \n",
    "    def __len__(self):\n",
    "        #'Denotes the total number of samples'\n",
    "        return self.num_samples\n",
    "\n",
    "    def __getitem__(self, slice_index):\n",
    "        neuron_idx = slice_index // self.num_cells\n",
    "        slice_index = slice_index % self.num_cells\n",
    "\n",
    "        X_data = self.input_spike_list[neuron_idx][slice_index,:]\n",
    "        y_data = self.input_spike_list[neuron_idx][slice_index,:]\n",
    "\n",
    "        print(X_data.dim())\n",
    "        if X_data.dim() == 2:\n",
    "            X_data = X_data.unsqueeze(0)\n",
    "            y_data = y_data.unsqueeze(0)\n",
    "\n",
    "        X_data = X_data.unfold(0, self.window_size, self.data_step_size).transpose(1,2)\n",
    "        y_data = y_data.unfold(0, self.window_size, self.data_step_size).transpose(1,2)\n",
    "        \n",
    "\n",
    "        return self.X_data[:, :-1, :], self.y_data[:, 1:, :]\n",
    "    \n",
    "\n",
    "    def process_data(self, network_data):\n",
    "        gid_list = network_data.net.gid_ranges[self.cell_type]\n",
    "        input_spike_list, vsec_list, isec_list = list(), list(), list()\n",
    "        for gid in gid_list:\n",
    "            input_spike_list.append(network_data.input_spike_dict[gid].T)\n",
    "            vsec_list.append(network_data.neuron_data_dict[gid].vsec_array.T)\n",
    "            isec_list.append(network_data.neuron_data_dict[gid].isec_array.T)\n",
    "        \n",
    "        return input_spike_list, vsec_list, isec_list\n",
    "\n",
    "    def transform_data(self):\n",
    "        input_spike_transform_list, vsec_transform_list, isec_transform_list = list(), list(), list()\n",
    "        for idx in range(self.num_cells):\n",
    "            input_spike_transformed = self.input_spike_scaler.transform(self.input_spike_list[idx])\n",
    "            input_spike_transformed = torch.from_numpy(input_spike_transformed)\n",
    "            input_spike_transform_list.append(input_spike_transformed)\n",
    "\n",
    "\n",
    "            vsec_transformed = self.vsec_scaler.transform(self.vsec_list[idx])\n",
    "            vsec_transformed = torch.from_numpy(vsec_transformed)\n",
    "            vsec_transform_list.append(vsec_transformed)\n",
    "\n",
    "            isec_transformed = self.isec_scaler.transform(self.isec_list[idx])\n",
    "            isec_transformed = torch.from_numpy(isec_transformed)\n",
    "            isec_transform_list.append(isec_transformed)\n",
    "\n",
    "        return input_spike_transform_list, vsec_transform_list, isec_transform_list\n",
    "\n",
    "\n",
    "\n",
    "    # def unfold_data(self):\n",
    "    #     input_spike_unfold_list, vsec_unfold_list, isec_unfold_list = list(), list(), list()\n",
    "    #     for idx in range(self.num_cells):\n",
    "    #         # Input spikes\n",
    "    #         input_spike_transformed = self.input_spike_scaler.transform(self.input_spike_list[idx])\n",
    "    #         input_spike_transformed = torch.from_numpy(input_spike_transformed)\n",
    "    #         input_spike_unfolded = input_spike_transformed.unfold(0, self.window_size + 1, self.data_step_size).transpose(1,2)\n",
    "    #         input_spike_unfold_list.append(input_spike_unfolded)\n",
    "\n",
    "    #         # Voltages\n",
    "    #         vsec_transformed = self.vsec_scaler.transform(self.vsec_list[idx])\n",
    "    #         vsec_transformed = torch.from_numpy(vsec_transformed)\n",
    "    #         vsec_unfolded = vsec_transformed.unfold(0, self.window_size + 1, self.data_step_size).transpose(1,2)\n",
    "    #         vsec_unfold_list.append(vsec_unfolded)\n",
    "\n",
    "    #         # Currents\n",
    "    #         isec_transformed = self.isec_scaler.transform(self.isec_list[idx])\n",
    "    #         isec_transformed = torch.from_numpy(isec_transformed)\n",
    "    #         isec_unfolded = isec_transformed.unfold(0, self.window_size + 1, self.data_step_size).transpose(1,2)\n",
    "    #         isec_unfold_list.append(isec_unfolded)\n",
    "\n",
    "    #     input_spike_unfolded = torch.concat(input_spike_unfold_list, dim=0)\n",
    "    #     vsec_unfolded = torch.concat(vsec_unfold_list, dim=0)\n",
    "    #     isec_unfolded = torch.concat(isec_unfold_list, dim=0)\n",
    "\n",
    "    #     return input_spike_unfolded, vsec_unfolded, isec_unfolded"
   ]
  },
  {
   "cell_type": "code",
   "execution_count": null,
   "metadata": {},
   "outputs": [],
   "source": []
  },
  {
   "cell_type": "code",
   "execution_count": 59,
   "metadata": {},
   "outputs": [],
   "source": [
    "# net_data = Network_Data(net)\n",
    "training_set = CellType_Dataset(net, cell_type='L2_pyramidal')"
   ]
  },
  {
   "cell_type": "code",
   "execution_count": 60,
   "metadata": {},
   "outputs": [
    {
     "ename": "TypeError",
     "evalue": "'slice' object is not iterable",
     "output_type": "error",
     "traceback": [
      "\u001b[0;31m---------------------------------------------------------------------------\u001b[0m",
      "\u001b[0;31mTypeError\u001b[0m                                 Traceback (most recent call last)",
      "\u001b[1;32m/home/nick/Jones_lab/bayesian_surrogates/netsim_loader.ipynb Cellule 10\u001b[0m in \u001b[0;36m<cell line: 1>\u001b[0;34m()\u001b[0m\n\u001b[0;32m----> <a href='vscode-notebook-cell:/home/nick/Jones_lab/bayesian_surrogates/netsim_loader.ipynb#X20sZmlsZQ%3D%3D?line=0'>1</a>\u001b[0m training_set[:\u001b[39m2\u001b[39;49m]\n",
      "\u001b[1;32m/home/nick/Jones_lab/bayesian_surrogates/netsim_loader.ipynb Cellule 10\u001b[0m in \u001b[0;36mCellType_Dataset.__getitem__\u001b[0;34m(self, slice_index)\u001b[0m\n\u001b[1;32m     <a href='vscode-notebook-cell:/home/nick/Jones_lab/bayesian_surrogates/netsim_loader.ipynb#X20sZmlsZQ%3D%3D?line=54'>55</a>\u001b[0m \u001b[39mdef\u001b[39;00m \u001b[39m__getitem__\u001b[39m(\u001b[39mself\u001b[39m, slice_index):\n\u001b[0;32m---> <a href='vscode-notebook-cell:/home/nick/Jones_lab/bayesian_surrogates/netsim_loader.ipynb#X20sZmlsZQ%3D%3D?line=55'>56</a>\u001b[0m     slice_index \u001b[39m=\u001b[39m np\u001b[39m.\u001b[39marray(\u001b[39mlist\u001b[39;49m(slice_index))\n\u001b[1;32m     <a href='vscode-notebook-cell:/home/nick/Jones_lab/bayesian_surrogates/netsim_loader.ipynb#X20sZmlsZQ%3D%3D?line=56'>57</a>\u001b[0m     neuron_idx \u001b[39m=\u001b[39m slice_index \u001b[39m/\u001b[39m\u001b[39m/\u001b[39m \u001b[39mself\u001b[39m\u001b[39m.\u001b[39mnum_cells\n\u001b[1;32m     <a href='vscode-notebook-cell:/home/nick/Jones_lab/bayesian_surrogates/netsim_loader.ipynb#X20sZmlsZQ%3D%3D?line=57'>58</a>\u001b[0m     slice_index \u001b[39m=\u001b[39m slice_index \u001b[39m%\u001b[39m \u001b[39mself\u001b[39m\u001b[39m.\u001b[39mnum_cells\n",
      "\u001b[0;31mTypeError\u001b[0m: 'slice' object is not iterable"
     ]
    }
   ],
   "source": [
    "training_set[:2]"
   ]
  },
  {
   "cell_type": "code",
   "execution_count": null,
   "metadata": {},
   "outputs": [],
   "source": []
  },
  {
   "cell_type": "code",
   "execution_count": null,
   "metadata": {},
   "outputs": [],
   "source": []
  },
  {
   "cell_type": "code",
   "execution_count": 11,
   "metadata": {},
   "outputs": [
    {
     "data": {
      "text/plain": [
       "[<matplotlib.lines.Line2D at 0x7f73d12bbc40>]"
      ]
     },
     "execution_count": 11,
     "metadata": {},
     "output_type": "execute_result"
    },
    {
     "data": {
      "image/png": "[encoded data removed]",
      "text/plain": [
       "<Figure size 720x216 with 1 Axes>"
      ]
     },
     "metadata": {
      "needs_background": "light"
     },
     "output_type": "display_data"
    }
   ],
   "source": [
    "plt.figure(figsize=(10,3))\n",
    "plt.plot(training_set[:2000][0][:,-1,13].detach().cpu().numpy())"
   ]
  },
  {
   "cell_type": "code",
   "execution_count": null,
   "metadata": {},
   "outputs": [],
   "source": []
  },
  {
   "cell_type": "code",
   "execution_count": null,
   "metadata": {},
   "outputs": [],
   "source": []
  }
 ],
 "metadata": {
  "kernelspec": {
   "display_name": "Python 3.9.12 ('base')",
   "language": "python",
   "name": "python3"
  },
  "language_info": {
   "codemirror_mode": {
    "name": "ipython",
    "version": 3
   },
   "file_extension": ".py",
   "mimetype": "text/x-python",
   "name": "python",
   "nbconvert_exporter": "python",
   "pygments_lexer": "ipython3",
   "version": "3.9.12"
  },
  "vscode": {
   "interpreter": {
    "hash": "0b48ab3240dc41ffa029ce879fa5e087e0a83cbe7a72ef65a19cb71535771faa"
   }
  }
 },
 "nbformat": 4,
 "nbformat_minor": 2
}
