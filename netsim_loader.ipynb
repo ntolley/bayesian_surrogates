{
 "cells": [
  {
   "cell_type": "code",
   "execution_count": 4,
   "metadata": {},
   "outputs": [],
   "source": [
    "import os.path as op\n",
    "import numpy as np\n",
    "import matplotlib.pyplot as plt\n",
    "import torch\n",
    "import torch.nn as nn\n",
    "import hnn_core\n",
    "from hnn_core import calcium_model, simulate_dipole, read_params, pick_connection\n",
    "from hnn_core.network_models import add_erp_drives_to_jones_model\n",
    "from hnn_core.network_builder import NetworkBuilder\n",
    "from hnn_core.cell import _get_gaussian_connection\n",
    "from sklearn.model_selection import ShuffleSplit\n",
    "from sklearn.linear_model import LinearRegression\n",
    "from sklearn.decomposition import PCA\n",
    "from sklearn.preprocessing import StandardScaler\n",
    "import utils\n",
    "import multiprocessing\n",
    "device = torch.device(\"cuda:0\")\n",
    "num_cores = multiprocessing.cpu_count()"
   ]
  },
  {
   "cell_type": "code",
   "execution_count": 5,
   "metadata": {},
   "outputs": [],
   "source": [
    "def add_noise(net):\n",
    "    rate = 10\n",
    "    weight = 0.01\n",
    "    # Add Poisson drives\n",
    "    weights_ampa_d1 = {'L2_pyramidal': weight, 'L5_pyramidal': weight,\n",
    "                       'L2_basket': weight}\n",
    "    rates_d1 = {'L2_pyramidal': rate, 'L5_pyramidal': rate, 'L2_basket': rate}\n",
    "\n",
    "    net.add_poisson_drive(\n",
    "        name='distal', tstart=0, tstop=None, rate_constant=rates_d1, location='distal', n_drive_cells='n_cells',\n",
    "        cell_specific=True, weights_ampa=weights_ampa_d1, weights_nmda=None, space_constant=1e50,\n",
    "        synaptic_delays=0.0, probability=1.0, event_seed=1, conn_seed=2)\n",
    "\n",
    "    weights_ampa_p1 = {'L2_pyramidal': weight, 'L5_pyramidal': weight,\n",
    "                       'L2_basket': weight, 'L5_basket': weight}\n",
    "    rates_p1 = {'L2_pyramidal': rate, 'L5_pyramidal': rate, 'L2_basket': rate, 'L5_basket': rate}\n",
    "\n",
    "    net.add_poisson_drive(\n",
    "        name='proximal', tstart=0, tstop=None, rate_constant=rates_p1, location='proximal', n_drive_cells='n_cells',\n",
    "        cell_specific=True, weights_ampa=weights_ampa_p1, weights_nmda=None, space_constant=1e50,\n",
    "        synaptic_delays=0.0, probability=1.0, event_seed=3, conn_seed=4)"
   ]
  },
  {
   "cell_type": "code",
   "execution_count": 9,
   "metadata": {},
   "outputs": [],
   "source": [
    "%%capture\n",
    "hnn_core_root = op.dirname(hnn_core.__file__)\n",
    "params_fname = op.join(hnn_core_root, 'param', 'default.json')\n",
    "params = read_params(params_fname)\n",
    "params.update({'N_pyr_x': 3, 'N_pyr_y': 3})\n",
    "net = calcium_model(params)\n",
    "add_noise(net)\n",
    "\n",
    "dt = 0.5\n",
    "dpl = simulate_dipole(net, dt=dt, tstop=1000, record_vsec='all', record_isec='all')"
   ]
  },
  {
   "cell_type": "code",
   "execution_count": 10,
   "metadata": {},
   "outputs": [
    {
     "name": "stdout",
     "output_type": "stream",
     "text": [
      "Building the NEURON model\n",
      "[Done]\n"
     ]
    }
   ],
   "source": [
    "net_build = NetworkBuilder(net)"
   ]
  },
  {
   "cell_type": "code",
   "execution_count": 28,
   "metadata": {},
   "outputs": [],
   "source": [
    "class SingleNeuron_Data:\n",
    "    #'Characterizes a dataset for PyTorch'\n",
    "    def __init__(self, net, gid):\n",
    "        self.gid = gid\n",
    "        self.cell_type = net.gid_to_type(self.gid)\n",
    "\n",
    "        if self.cell_type in net.cell_types:\n",
    "            self.is_cell = True\n",
    "\n",
    "            # Get voltages\n",
    "            vsec_list, vsec_names = list(), list()\n",
    "            for sec_name, vsec in net.cell_response.vsec[0][gid].items():\n",
    "                vsec_list.append(vsec)\n",
    "                vsec_names.append(sec_name)\n",
    "            self.vsec_names = vsec_names\n",
    "            self.vsec_array = np.array(vsec_list)\n",
    "\n",
    "            isec_list, isec_names = list(), list()\n",
    "            # Get currents\n",
    "            for sec_name, isec_dict in net.cell_response.isec[0][gid].items():\n",
    "                for isec_name, isec in isec_dict.items():\n",
    "                    isec_list.append(isec)\n",
    "                    isec_names.append(isec_name)\n",
    "\n",
    "            self.isec_array = np.array(isec_list)\n",
    "\n",
    "            # Create dictionary to look up row for each section/receptor combo\n",
    "            isec_name_lookup = {name: idx for idx, name in enumerate(isec_names)}\n",
    "            self.isec_name_lookup = isec_name_lookup\n",
    "            \n",
    "\n",
    "        else:\n",
    "            self.is_cell = False\n",
    "            \n",
    "            \n",
    "        self.spikes_binned = self.get_binned_spikes(net)\n",
    "\n",
    "    def get_binned_spikes(self, net):\n",
    "        spike_times = np.array(net.cell_response.spike_times)\n",
    "        spike_gids = np.array(net.cell_response.spike_gids)\n",
    "\n",
    "        spike_times_gid = spike_times[spike_gids == self.gid]\n",
    "        spikes_binned = np.histogram(spike_times_gid, bins=net.cell_response.times)[0]\n",
    "\n",
    "        spikes_binned = np.concatenate([spikes_binned, [0.0]])\n",
    "        return spikes_binned\n",
    "        \n",
    "\n",
    "\n"
   ]
  },
  {
   "cell_type": "code",
   "execution_count": null,
   "metadata": {},
   "outputs": [],
   "source": []
  },
  {
   "cell_type": "code",
   "execution_count": 38,
   "metadata": {},
   "outputs": [],
   "source": [
    "class Network_Dataset:\n",
    "    def __init__(self, net):\n",
    "        self.net = net\n",
    "        self.neuron_data_dict = dict()\n",
    "        self.input_spike_dict = dict()\n",
    "        \n",
    "        for cell_type, gid_list in net.gid_ranges.items():\n",
    "            for gid in gid_list:\n",
    "                self.neuron_data_dict[gid] = SingleNeuron_Data(net, gid)\n",
    "\n",
    "                # Initialize blank arrays for spikes recieved by each cell\n",
    "                if cell_type in net.cell_types:\n",
    "                    self.input_spike_dict[gid] = np.zeros(self.neuron_data_dict[gid].isec_array.shape)\n",
    "\n",
    "        for conn in net.connectivity:\n",
    "            for src_gid, target_gid_list in conn['gid_pairs'].items():\n",
    "\n",
    "                # Loop through all target gids and append spikes to appropriate array\n",
    "                # **TODO** - need to add weight and delay\n",
    "                for target_gid in target_gid_list:\n",
    "                    conn_spikes = self.neuron_data_dict[src_gid].spikes_binned\n",
    "\n",
    "                    target_type = conn['target_type']\n",
    "                    receptor = conn['receptor']\n",
    "                    loc = conn['loc']\n",
    "\n",
    "                    if loc in net.cell_types[target_type].sect_loc:\n",
    "                        sect_loc = net.cell_types[target_type].sect_loc[loc]\n",
    "                    else:\n",
    "                        sect_loc = [loc]\n",
    "                        assert loc in net.cell_types[target_type].sections\n",
    "\n",
    "                    for sec in sect_loc:\n",
    "                        input_spike_name = f'{sec}_{receptor}'\n",
    "                        input_spike_idx = self.neuron_data_dict[target_gid].isec_name_lookup[input_spike_name]\n",
    "                        self.input_spike_dict[target_gid][input_spike_idx, :] += conn_spikes\n",
    "\n",
    "            \n",
    "                \n"
   ]
  },
  {
   "cell_type": "code",
   "execution_count": null,
   "metadata": {},
   "outputs": [],
   "source": []
  },
  {
   "cell_type": "code",
   "execution_count": 41,
   "metadata": {},
   "outputs": [],
   "source": [
    "network_dataset = Network_Dataset(net)"
   ]
  },
  {
   "cell_type": "code",
   "execution_count": 62,
   "metadata": {},
   "outputs": [
    {
     "data": {
      "text/plain": [
       "<matplotlib.colorbar.Colorbar at 0x7fc698dadf60>"
      ]
     },
     "execution_count": 62,
     "metadata": {},
     "output_type": "execute_result"
    },
    {
     "data": {
      "image/png": "[encoded data removed]",
      "text/plain": [
       "<Figure size 1000x400 with 2 Axes>"
      ]
     },
     "metadata": {},
     "output_type": "display_data"
    }
   ],
   "source": [
    "plt.figure(figsize=(10, 4))\n",
    "plt.imshow(network_dataset.input_spike_dict[11], aspect='auto', cmap='gray_r', vmin=0, vmax=0.1)\n",
    "plt.colorbar()"
   ]
  },
  {
   "cell_type": "code",
   "execution_count": 51,
   "metadata": {},
   "outputs": [
    {
     "data": {
      "text/plain": [
       "array([0., 1., 2., 4.])"
      ]
     },
     "execution_count": 51,
     "metadata": {},
     "output_type": "execute_result"
    }
   ],
   "source": [
    "np.unique(network_dataset.input_spike_dict[10])"
   ]
  },
  {
   "cell_type": "code",
   "execution_count": 37,
   "metadata": {},
   "outputs": [
    {
     "data": {
      "text/plain": [
       "dict_keys(['apical_trunk', 'apical_1', 'apical_2', 'apical_tuft', 'apical_oblique', 'basal_1', 'basal_2', 'basal_3', 'soma'])"
      ]
     },
     "execution_count": 37,
     "metadata": {},
     "output_type": "execute_result"
    }
   ],
   "source": [
    "net.cell_types['L5_pyramidal'].sections.keys()"
   ]
  },
  {
   "cell_type": "code",
   "execution_count": 22,
   "metadata": {},
   "outputs": [
    {
     "data": {
      "text/plain": [
       "{'soma_ampa': 0, 'soma_gabaa': 1, 'soma_nmda': 2}"
      ]
     },
     "execution_count": 22,
     "metadata": {},
     "output_type": "execute_result"
    }
   ],
   "source": [
    "network_dataset.neuron_data_dict[0].isec_name_lookup"
   ]
  },
  {
   "cell_type": "code",
   "execution_count": 12,
   "metadata": {},
   "outputs": [
    {
     "data": {
      "text/plain": [
       "(3, 20001)"
      ]
     },
     "execution_count": 12,
     "metadata": {},
     "output_type": "execute_result"
    }
   ],
   "source": [
    "network_dataset.neuron_data_dict[0].isec_array.shape"
   ]
  },
  {
   "cell_type": "code",
   "execution_count": null,
   "metadata": {},
   "outputs": [],
   "source": []
  },
  {
   "cell_type": "code",
   "execution_count": null,
   "metadata": {},
   "outputs": [],
   "source": []
  },
  {
   "cell_type": "code",
   "execution_count": null,
   "metadata": {},
   "outputs": [],
   "source": []
  },
  {
   "cell_type": "code",
   "execution_count": null,
   "metadata": {},
   "outputs": [],
   "source": []
  },
  {
   "cell_type": "code",
   "execution_count": null,
   "metadata": {},
   "outputs": [],
   "source": []
  },
  {
   "cell_type": "code",
   "execution_count": null,
   "metadata": {},
   "outputs": [],
   "source": [
    "class CellType_Dataset(torch.utils.data.Dataset):\n",
    "    #'Characterizes a dataset for PyTorch'\n",
    "    def __init__(self, sim_data, n_voltages, data_step_size=1, window_size=100, scaler=None, device='cpu'):\n",
    "        \n",
    "        self.n_cells, self.n_rec_sites, self.n_times = sim_data.shape\n",
    "        self.sim_data = [sim_data[idx,:,:].T for idx in range(sim_data.shape[0])]\n",
    "        \n",
    "        self.n_voltages = n_voltages\n",
    "        self.data_step_size = data_step_size\n",
    "        self.window_size = window_size\n",
    "        self.device = device\n",
    "        \n",
    "        if scaler is None:\n",
    "            self.scaler = StandardScaler()\n",
    "            self.scaler.fit(np.vstack(self.sim_data))\n",
    "\n",
    "        self.sim_data_tensor = self.process_data(self.sim_data)\n",
    "        \n",
    "        # X is one step behind y\n",
    "        self.X_tensor = self.sim_data_tensor[:, :-1, n_voltages:]\n",
    "        self.y_tensor = self.sim_data_tensor[:, 1:, :n_voltages]\n",
    "        assert self.X_tensor.shape[0] == self.y_tensor.shape[0]\n",
    "        self.num_samples = self.X_tensor.shape[0]\n",
    "\n",
    "        self.X_tensor = self.X_tensor.to(self.device)\n",
    "        self.y_tensor = self.y_tensor.to(self.device)\n",
    "\n",
    "    \n",
    "    def __len__(self):\n",
    "        #'Denotes the total number of samples'\n",
    "        return self.num_samples\n",
    "\n",
    "    def __getitem__(self, slice_index):\n",
    "        return self.X_tensor[slice_index,:,:], self.y_tensor[slice_index,:,:]\n",
    "    \n",
    "    def process_data(self, sim_data):\n",
    "        unfolded_list = list()\n",
    "        for idx in range(len(sim_data)):\n",
    "            sim_data_transformed = self.scaler.transform(sim_data[idx])\n",
    "            sim_data_transformed = torch.from_numpy(sim_data_transformed)\n",
    "            sim_data_unfolded = sim_data_transformed.unfold(0, self.window_size + 1, self.data_step_size).transpose(1,2)\n",
    "            \n",
    "            unfolded_list.append(sim_data_unfolded)\n",
    "        sim_data_tensor = torch.concat(unfolded_list)\n",
    "        return sim_data_tensor\n",
    "        \n",
    "        "
   ]
  }
 ],
 "metadata": {
  "kernelspec": {
   "display_name": "bayes_surrogate",
   "language": "python",
   "name": "python3"
  },
  "language_info": {
   "codemirror_mode": {
    "name": "ipython",
    "version": 3
   },
   "file_extension": ".py",
   "mimetype": "text/x-python",
   "name": "python",
   "nbconvert_exporter": "python",
   "pygments_lexer": "ipython3",
   "version": "3.10.13"
  }
 },
 "nbformat": 4,
 "nbformat_minor": 2
}
