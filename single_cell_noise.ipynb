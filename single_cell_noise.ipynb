{
 "cells": [
  {
   "cell_type": "code",
   "execution_count": 1,
   "id": "a0665e95-c3fa-49a3-ab73-3af883dae303",
   "metadata": {},
   "outputs": [],
   "source": [
    "import os.path as op\n",
    "import numpy as np\n",
    "import matplotlib.pyplot as plt\n",
    "import torch\n",
    "import torch.nn as nn\n",
    "import hnn_core\n",
    "from hnn_core import calcium_model, simulate_dipole, read_params, pick_connection\n",
    "from hnn_core.network_models import add_erp_drives_to_jones_model\n",
    "from hnn_core.network_builder import NetworkBuilder\n",
    "from hnn_core.cell import _get_gaussian_connection\n",
    "from sklearn.model_selection import ShuffleSplit\n",
    "from sklearn.linear_model import LinearRegression\n",
    "from sklearn.decomposition import PCA\n",
    "from sklearn.preprocessing import StandardScaler\n",
    "import utils\n",
    "import multiprocessing\n",
    "import dill\n",
    "device = torch.device(\"cuda:0\")\n",
    "num_cores = multiprocessing.cpu_count()\n",
    "torch.backends.cudnn.enabled = True"
   ]
  },
  {
   "cell_type": "code",
   "execution_count": null,
   "id": "6a8eaed6",
   "metadata": {},
   "outputs": [],
   "source": []
  },
  {
   "cell_type": "code",
   "execution_count": 2,
   "id": "8344645a",
   "metadata": {},
   "outputs": [],
   "source": [
    "dataset_cell_type = 'L5_pyramidal'\n",
    "# dataset_cell_type = 'L2_basket'\n",
    "\n",
    "training_indices = list(range(10))\n",
    "validation_indices = list(range(10, 20))\n",
    "\n",
    "# training_indices = [0,1,3,4,5,7,9,10]\n",
    "# validation_indices = [13,16,17,18,19]\n",
    "\n",
    "training_set = torch.utils.data.ConcatDataset([torch.load(f'datasets/training_data/{dataset_cell_type}_dataset_{idx}.pt') for idx in training_indices])\n",
    "validation_set = torch.utils.data.ConcatDataset([torch.load(f'datasets/training_data/{dataset_cell_type}_dataset_{idx}.pt') for idx in validation_indices])"
   ]
  },
  {
   "cell_type": "code",
   "execution_count": 3,
   "id": "81770328",
   "metadata": {},
   "outputs": [
    {
     "data": {
      "text/plain": [
       "(500, 2)"
      ]
     },
     "execution_count": 3,
     "metadata": {},
     "output_type": "execute_result"
    }
   ],
   "source": [
    "training_set[0][1].detach().cpu().numpy().shape"
   ]
  },
  {
   "cell_type": "code",
   "execution_count": null,
   "id": "c85575cc",
   "metadata": {},
   "outputs": [],
   "source": []
  },
  {
   "cell_type": "code",
   "execution_count": 4,
   "id": "da1e92e2-de08-4529-a55a-d2a1905e3a0e",
   "metadata": {},
   "outputs": [],
   "source": [
    "_, input_size = training_set[0][0].detach().cpu().numpy().shape\n",
    "_, output_size = training_set[0][1].detach().cpu().numpy().shape\n",
    "\n",
    "batch_size = 100\n",
    "num_cores = 8\n",
    "pin_memory = True\n",
    "\n",
    "train_params = {'batch_size': batch_size, 'shuffle': True, 'pin_memory':pin_memory}\n",
    "train_eval_params = {'batch_size': batch_size, 'shuffle': False, 'pin_memory':pin_memory}\n",
    "validation_params = {'batch_size': batch_size, 'shuffle': True,  'pin_memory':pin_memory}\n",
    "test_params = {'batch_size': batch_size, 'shuffle': False, 'pin_memory':pin_memory}\n",
    "\n",
    "training_generator = torch.utils.data.DataLoader(training_set, **train_params)\n",
    "training_eval_generator = torch.utils.data.DataLoader(training_set, **train_eval_params)\n",
    "validation_generator = torch.utils.data.DataLoader(validation_set, **validation_params)\n",
    "\n",
    "validation_generator = torch.utils.data.DataLoader(validation_set, **test_params)\n",
    "\n"
   ]
  },
  {
   "cell_type": "code",
   "execution_count": 5,
   "id": "fec5164c",
   "metadata": {},
   "outputs": [
    {
     "data": {
      "text/plain": [
       "1440"
      ]
     },
     "execution_count": 5,
     "metadata": {},
     "output_type": "execute_result"
    }
   ],
   "source": [
    "len(training_set)"
   ]
  },
  {
   "cell_type": "code",
   "execution_count": null,
   "id": "e0fdf30a",
   "metadata": {},
   "outputs": [],
   "source": []
  },
  {
   "cell_type": "code",
   "execution_count": null,
   "id": "c65c7069",
   "metadata": {},
   "outputs": [],
   "source": []
  },
  {
   "cell_type": "code",
   "execution_count": 6,
   "id": "ded30e20-58b7-4ec8-9ca7-069d4e14046d",
   "metadata": {},
   "outputs": [],
   "source": [
    "def train_validate_model(model, optimizer, criterion, max_epochs, training_generator, validation_generator, device, print_freq=10, early_stop=20):\n",
    "    kernel_size = model.kernel_size\n",
    "\n",
    "    train_loss_array = []\n",
    "    validation_loss_array = []\n",
    "    # Loop over epochs\n",
    "    min_validation_loss, min_validation_std, min_validation_counter, min_validation_epoch = np.inf, np.inf, 0, 0\n",
    "    for epoch in range(max_epochs):\n",
    "        #___Train model___\n",
    "        model.train()\n",
    "        train_batch_loss = []\n",
    "        validation_batch_loss = []\n",
    "        for batch_x, batch_y in training_generator:\n",
    "            optimizer.zero_grad() # Clears existing gradients from previous epoch\n",
    "            batch_x = batch_x.float().to(device)\n",
    "            batch_y = batch_y.float().to(device)\n",
    "\n",
    "            output_sequence = []\n",
    "            hidden = model.init_hidden(batch_x.size(0))\n",
    "            for t in range(kernel_size, batch_x.size(1)-1):\n",
    "                output, hidden = model(batch_x[:,(t-kernel_size):t, :], hidden)\n",
    "                output_sequence.append(output)\n",
    "\n",
    "            output_sequence = torch.cat(output_sequence, dim=1)\n",
    "            train_loss = criterion(output_sequence, batch_y[:,kernel_size+1:,:])\n",
    "\n",
    "            train_loss.backward() # Does backpropagation and calculates gradients\n",
    "            optimizer.step() # Updates the weights accordingly\n",
    "\n",
    "            train_batch_loss.append(train_loss.item())\n",
    "        \n",
    "        train_loss_array.append(train_batch_loss)\n",
    "\n",
    "        #___Evaluate Model___\n",
    "        with torch.no_grad():\n",
    "            model.eval()\n",
    "            #Generate train set predictions\n",
    "            for batch_x, batch_y in validation_generator:\n",
    "                batch_x = batch_x.float().to(device)\n",
    "                batch_y = batch_y.float().to(device)\n",
    "\n",
    "                output_sequence = []\n",
    "                hidden = model.init_hidden(batch_x.size(0))\n",
    "                for t in range(kernel_size, batch_x.size(1)):\n",
    "                    output, hidden = model(batch_x[:,(t-kernel_size):t, :], hidden)\n",
    "                    output_sequence.append(output)\n",
    "\n",
    "                output_sequence = torch.cat(output_sequence, dim=1)\n",
    "                validation_loss = criterion(output_sequence, batch_y[:,kernel_size:,:])\n",
    "\n",
    "                validation_batch_loss.append(validation_loss.item())\n",
    "\n",
    "        validation_loss_array.append(validation_batch_loss)\n",
    "\n",
    "        #Compute average loss on batch\n",
    "        train_epoch_loss = np.mean(train_batch_loss)\n",
    "        train_epoch_std = np.std(train_batch_loss)\n",
    "        validation_epoch_loss = np.mean(validation_batch_loss)\n",
    "        validation_epoch_std = np.std(validation_batch_loss)\n",
    "\n",
    "       #Check if validation loss reaches minimum \n",
    "        if validation_epoch_loss < min_validation_loss:\n",
    "            print('*',end='')\n",
    "            min_validation_loss = np.copy(validation_epoch_loss)\n",
    "            min_validation_std = np.copy(validation_epoch_std)\n",
    "            min_validation_counter = 0\n",
    "            min_validation_epoch = np.copy(epoch+1)\n",
    "\n",
    "            min_train_loss = np.copy(train_epoch_loss)\n",
    "            min_train_std = np.copy(train_epoch_std)\n",
    "            \n",
    "        else:\n",
    "            print('.',end='')\n",
    "            min_validation_counter += 1\n",
    "\n",
    "        #Print Loss Scores\n",
    "        if (epoch+1)%print_freq == 0:\n",
    "            print('')\n",
    "            print('Epoch: {}/{} ...'.format(epoch+1, max_epochs), end=' ')\n",
    "            print('Train Loss: {:.4f}  ... Validation Loss: {:.4f}'.format(train_epoch_loss,validation_epoch_loss))\n",
    "        \n",
    "        #Early stop if no validation improvement over set number of epochs\n",
    "        if min_validation_counter > early_stop:\n",
    "            print(' Early Stop; Min Epoch: {}'.format(min_validation_epoch))\n",
    "            break\n",
    "\n",
    "    loss_dict = {'min_validation_loss':min_validation_loss, 'min_validation_std':min_validation_std,'min_validation_epoch':min_validation_epoch, \n",
    "    'min_train_loss':min_train_loss, 'min_train_std':min_train_std,\n",
    "    'train_loss_array':train_loss_array, 'validation_loss_array':validation_loss_array, 'max_epochs':max_epochs}\n",
    "    return loss_dict"
   ]
  },
  {
   "cell_type": "code",
   "execution_count": 7,
   "id": "73202214-a38f-404f-b9bc-a6bb0f3c5a72",
   "metadata": {},
   "outputs": [],
   "source": [
    "#LSTM/GRU architecture for decoding\n",
    "class model_lstm(nn.Module):\n",
    "    def __init__(self, input_size, output_size, hidden_dim=64, n_layers=3, dropout=0.1, kernel_size=200, device='cuda:0', bidirectional=False):\n",
    "        super(model_lstm, self).__init__()\n",
    "\n",
    "        #multiplier based on bidirectional parameter\n",
    "        if bidirectional:\n",
    "            num_directions = 2\n",
    "        else:\n",
    "            num_directions = 1\n",
    "\n",
    "        # Defining some parameters\n",
    "        self.input_size = input_size\n",
    "        self.output_size = output_size\n",
    "        self.hidden_dim = hidden_dim\n",
    "        self.n_layers = n_layers * num_directions\n",
    "        self.device = device\n",
    "        self.dropout = dropout\n",
    "        self.bidirectional = bidirectional\n",
    "        self.kernel_size = kernel_size\n",
    "\n",
    "        self.tau1, self.tau2 = 10, 20\n",
    "        self.kernel = self.get_kernel(torch.arange(0, kernel_size, 1),\n",
    "                                      tau1=self.tau1, tau2=self.tau2).float().to(self.device).flip(0)\n",
    "\n",
    "        # LSTM Layer\n",
    "        self.lstm = nn.LSTM(hidden_dim, hidden_dim, n_layers, batch_first=True, dropout=dropout)   \n",
    "\n",
    "        self.fc_input = nn.Sequential(\n",
    "            nn.Linear(input_size, self.hidden_dim),\n",
    "            nn.Tanh(),\n",
    "            nn.Linear(self.hidden_dim, self.hidden_dim),\n",
    "            nn.Tanh()\n",
    "        )\n",
    "\n",
    "        self.fc_output = nn.Sequential(\n",
    "            nn.Tanh(),\n",
    "            nn.Linear(hidden_dim*num_directions, self.hidden_dim),\n",
    "            nn.Tanh(),\n",
    "            nn.Linear(self.hidden_dim, self.hidden_dim),\n",
    "            nn.Linear(self.hidden_dim, self.output_size)\n",
    "\n",
    "        )\n",
    "    \n",
    "    def forward(self, x, hidden):\n",
    "        batch_size = x.size(0)\n",
    "    \n",
    "        kernel_product = self.kernel.tile(dims=(batch_size, self.input_size, 1)).transpose(1,2)\n",
    "\n",
    "        out = (kernel_product * x).sum(dim=1).unsqueeze(1)\n",
    "        # print(out.shape)\n",
    "\n",
    "        out = self.fc_input(out.contiguous())\n",
    "        out, hidden = self.lstm(out, hidden)\n",
    "        out = out.contiguous()\n",
    "        out = self.fc_output(out)\n",
    "            \n",
    "        return out, hidden\n",
    "    \n",
    "    def init_hidden(self, batch_size):\n",
    "        # This method generates the first hidden state of zeros which we'll use in the forward pass\n",
    "        weight = next(self.parameters()).data.to(self.device)\n",
    "\n",
    "        # LSTM cell initialization\n",
    "        hidden = (weight.new(self.n_layers, batch_size, self.hidden_dim).zero_().to(self.device),\n",
    "                      weight.new(self.n_layers, batch_size, self.hidden_dim).zero_().to(self.device))\n",
    "    \n",
    "        return hidden\n",
    "\n",
    "    def get_kernel(self, t_vec, tau1=10, tau2=20):\n",
    "        G = tau2/(tau2-tau1)*(-torch.exp(-t_vec/tau1) + torch.exp(-t_vec/tau2))\n",
    "        return G"
   ]
  },
  {
   "cell_type": "code",
   "execution_count": 8,
   "id": "8e1f8d29",
   "metadata": {},
   "outputs": [],
   "source": [
    "model = model_lstm(input_size=input_size, output_size=output_size, device=device).to(device)\n"
   ]
  },
  {
   "cell_type": "code",
   "execution_count": null,
   "id": "20619854-3a19-4e7e-a9e2-b762e6fc8585",
   "metadata": {},
   "outputs": [
    {
     "name": "stdout",
     "output_type": "stream",
     "text": [
      "*******...\n",
      "Epoch: 10/1000 ... Train Loss: 0.4075  ... Validation Loss: 0.3685\n",
      "....*.*...\n",
      "Epoch: 20/1000 ... Train Loss: 0.4023  ... Validation Loss: 0.3666\n",
      ".*..."
     ]
    },
    {
     "ename": "KeyboardInterrupt",
     "evalue": "",
     "output_type": "error",
     "traceback": [
      "\u001b[0;31m---------------------------------------------------------------------------\u001b[0m",
      "\u001b[0;31mKeyboardInterrupt\u001b[0m                         Traceback (most recent call last)",
      "\u001b[1;32m/home/nick/Jones_lab/bayesian_surrogates/single_cell_noise.ipynb Cellule 13\u001b[0m in \u001b[0;36m<cell line: 10>\u001b[0;34m()\u001b[0m\n\u001b[1;32m      <a href='vscode-notebook-cell:/home/nick/Jones_lab/bayesian_surrogates/single_cell_noise.ipynb#X15sZmlsZQ%3D%3D?line=5'>6</a>\u001b[0m optimizer \u001b[39m=\u001b[39m torch\u001b[39m.\u001b[39moptim\u001b[39m.\u001b[39mAdam(model\u001b[39m.\u001b[39mparameters(), lr\u001b[39m=\u001b[39mlr, weight_decay\u001b[39m=\u001b[39mweight_decay)\n\u001b[1;32m      <a href='vscode-notebook-cell:/home/nick/Jones_lab/bayesian_surrogates/single_cell_noise.ipynb#X15sZmlsZQ%3D%3D?line=8'>9</a>\u001b[0m \u001b[39m#Train model\u001b[39;00m\n\u001b[0;32m---> <a href='vscode-notebook-cell:/home/nick/Jones_lab/bayesian_surrogates/single_cell_noise.ipynb#X15sZmlsZQ%3D%3D?line=9'>10</a>\u001b[0m loss_dict \u001b[39m=\u001b[39m train_validate_model(model, optimizer, criterion, max_epochs, training_generator, validation_generator, device, \u001b[39m10\u001b[39;49m, \u001b[39m10\u001b[39;49m)\n",
      "\u001b[1;32m/home/nick/Jones_lab/bayesian_surrogates/single_cell_noise.ipynb Cellule 13\u001b[0m in \u001b[0;36mtrain_validate_model\u001b[0;34m(model, optimizer, criterion, max_epochs, training_generator, validation_generator, device, print_freq, early_stop)\u001b[0m\n\u001b[1;32m     <a href='vscode-notebook-cell:/home/nick/Jones_lab/bayesian_surrogates/single_cell_noise.ipynb#X15sZmlsZQ%3D%3D?line=23'>24</a>\u001b[0m output_sequence \u001b[39m=\u001b[39m torch\u001b[39m.\u001b[39mcat(output_sequence, dim\u001b[39m=\u001b[39m\u001b[39m1\u001b[39m)\n\u001b[1;32m     <a href='vscode-notebook-cell:/home/nick/Jones_lab/bayesian_surrogates/single_cell_noise.ipynb#X15sZmlsZQ%3D%3D?line=24'>25</a>\u001b[0m train_loss \u001b[39m=\u001b[39m criterion(output_sequence, batch_y[:,kernel_size\u001b[39m+\u001b[39m\u001b[39m1\u001b[39m:,:])\n\u001b[0;32m---> <a href='vscode-notebook-cell:/home/nick/Jones_lab/bayesian_surrogates/single_cell_noise.ipynb#X15sZmlsZQ%3D%3D?line=26'>27</a>\u001b[0m train_loss\u001b[39m.\u001b[39;49mbackward() \u001b[39m# Does backpropagation and calculates gradients\u001b[39;00m\n\u001b[1;32m     <a href='vscode-notebook-cell:/home/nick/Jones_lab/bayesian_surrogates/single_cell_noise.ipynb#X15sZmlsZQ%3D%3D?line=27'>28</a>\u001b[0m optimizer\u001b[39m.\u001b[39mstep() \u001b[39m# Updates the weights accordingly\u001b[39;00m\n\u001b[1;32m     <a href='vscode-notebook-cell:/home/nick/Jones_lab/bayesian_surrogates/single_cell_noise.ipynb#X15sZmlsZQ%3D%3D?line=29'>30</a>\u001b[0m train_batch_loss\u001b[39m.\u001b[39mappend(train_loss\u001b[39m.\u001b[39mitem())\n",
      "File \u001b[0;32m~/anaconda3/lib/python3.9/site-packages/torch/_tensor.py:396\u001b[0m, in \u001b[0;36mTensor.backward\u001b[0;34m(self, gradient, retain_graph, create_graph, inputs)\u001b[0m\n\u001b[1;32m    387\u001b[0m \u001b[39mif\u001b[39;00m has_torch_function_unary(\u001b[39mself\u001b[39m):\n\u001b[1;32m    388\u001b[0m     \u001b[39mreturn\u001b[39;00m handle_torch_function(\n\u001b[1;32m    389\u001b[0m         Tensor\u001b[39m.\u001b[39mbackward,\n\u001b[1;32m    390\u001b[0m         (\u001b[39mself\u001b[39m,),\n\u001b[0;32m   (...)\u001b[0m\n\u001b[1;32m    394\u001b[0m         create_graph\u001b[39m=\u001b[39mcreate_graph,\n\u001b[1;32m    395\u001b[0m         inputs\u001b[39m=\u001b[39minputs)\n\u001b[0;32m--> 396\u001b[0m torch\u001b[39m.\u001b[39;49mautograd\u001b[39m.\u001b[39;49mbackward(\u001b[39mself\u001b[39;49m, gradient, retain_graph, create_graph, inputs\u001b[39m=\u001b[39;49minputs)\n",
      "File \u001b[0;32m~/anaconda3/lib/python3.9/site-packages/torch/autograd/__init__.py:173\u001b[0m, in \u001b[0;36mbackward\u001b[0;34m(tensors, grad_tensors, retain_graph, create_graph, grad_variables, inputs)\u001b[0m\n\u001b[1;32m    168\u001b[0m     retain_graph \u001b[39m=\u001b[39m create_graph\n\u001b[1;32m    170\u001b[0m \u001b[39m# The reason we repeat same the comment below is that\u001b[39;00m\n\u001b[1;32m    171\u001b[0m \u001b[39m# some Python versions print out the first line of a multi-line function\u001b[39;00m\n\u001b[1;32m    172\u001b[0m \u001b[39m# calls in the traceback and some print out the last line\u001b[39;00m\n\u001b[0;32m--> 173\u001b[0m Variable\u001b[39m.\u001b[39;49m_execution_engine\u001b[39m.\u001b[39;49mrun_backward(  \u001b[39m# Calls into the C++ engine to run the backward pass\u001b[39;49;00m\n\u001b[1;32m    174\u001b[0m     tensors, grad_tensors_, retain_graph, create_graph, inputs,\n\u001b[1;32m    175\u001b[0m     allow_unreachable\u001b[39m=\u001b[39;49m\u001b[39mTrue\u001b[39;49;00m, accumulate_grad\u001b[39m=\u001b[39;49m\u001b[39mTrue\u001b[39;49;00m)\n",
      "\u001b[0;31mKeyboardInterrupt\u001b[0m: "
     ]
    }
   ],
   "source": [
    "lr = 1e-3\n",
    "weight_decay = 1e-4\n",
    "max_epochs = 1000\n",
    "criterion = nn.MSELoss()\n",
    "# criterion = nn.HuberLoss()\n",
    "optimizer = torch.optim.Adam(model.parameters(), lr=lr, weight_decay=weight_decay)\n",
    "\n",
    "\n",
    "#Train model\n",
    "loss_dict = train_validate_model(model, optimizer, criterion, max_epochs, training_generator, validation_generator, device, 10, 10)\n"
   ]
  },
  {
   "cell_type": "code",
   "execution_count": null,
   "id": "f1826468",
   "metadata": {},
   "outputs": [],
   "source": []
  },
  {
   "cell_type": "code",
   "execution_count": null,
   "id": "13a7d364",
   "metadata": {},
   "outputs": [],
   "source": []
  },
  {
   "cell_type": "code",
   "execution_count": 22,
   "id": "6996a2fc-1205-4326-bb8e-4a1eed3e51e9",
   "metadata": {},
   "outputs": [],
   "source": [
    "torch.save(model.state_dict(), f'{dataset_cell_type}_model.pt')"
   ]
  },
  {
   "cell_type": "code",
   "execution_count": null,
   "id": "a2ce1fb7",
   "metadata": {},
   "outputs": [],
   "source": []
  },
  {
   "cell_type": "code",
   "execution_count": 15,
   "id": "be7c5f75",
   "metadata": {},
   "outputs": [],
   "source": [
    "vsec_names = training_set.datasets[0].vsec_names\n",
    "isec_names = training_set.datasets[0].isec_names"
   ]
  },
  {
   "cell_type": "code",
   "execution_count": 16,
   "id": "b77f190f",
   "metadata": {},
   "outputs": [
    {
     "data": {
      "image/png": "[encoded data removed]",
      "text/plain": [
       "<Figure size 720x576 with 1 Axes>"
      ]
     },
     "metadata": {
      "needs_background": "light"
     },
     "output_type": "display_data"
    }
   ],
   "source": [
    "plt.figure(figsize=(10,8))\n",
    "\n",
    "plt.imshow(validation_set.datasets[0][:][0][0, :, :].detach().cpu().numpy().T, aspect='auto', cmap='gray_r', vmin=0, vmax=0.0001)\n",
    "_ = plt.yticks(ticks=list(range(len(isec_names))), labels=isec_names)"
   ]
  },
  {
   "cell_type": "code",
   "execution_count": 17,
   "id": "fa9c8716",
   "metadata": {},
   "outputs": [],
   "source": [
    "# test_pred = utils.evaluate_model(model, validation_generator, device)\n",
    "# test_pred = test_pred.squeeze()"
   ]
  },
  {
   "cell_type": "code",
   "execution_count": 18,
   "id": "1cc0f78d",
   "metadata": {},
   "outputs": [],
   "source": [
    "def run_model(model, validation_set):\n",
    "    val_data = validation_set[:][0][:,:,:].float().to(device)\n",
    "    with torch.no_grad():\n",
    "        model.eval()\n",
    "        output_sequence = []\n",
    "        hidden = model.init_hidden(val_data.size(0))\n",
    "        for t in range(model.kernel_size, val_data.size(1)):\n",
    "            output, hidden = model(val_data[:,(t-model.kernel_size):t, :], hidden)\n",
    "            output_sequence.append(output)\n",
    "\n",
    "        output_sequence = torch.cat(output_sequence, dim=1)\n",
    "\n",
    "    return output_sequence\n"
   ]
  },
  {
   "cell_type": "code",
   "execution_count": 19,
   "id": "9da9ecf5-77da-4b93-bad5-bf2142d3ea10",
   "metadata": {},
   "outputs": [],
   "source": []
  },
  {
   "cell_type": "code",
   "execution_count": null,
   "id": "f7eb20b6",
   "metadata": {},
   "outputs": [],
   "source": []
  },
  {
   "cell_type": "code",
   "execution_count": 34,
   "id": "9c59a679-2e2b-4646-93f5-a86d7facb0a0",
   "metadata": {},
   "outputs": [],
   "source": [
    "val_idx = 5\n",
    "test_pred = run_model(model, validation_set.datasets[val_idx])\n",
    "\n",
    "\n",
    "val_plot_data = np.concatenate(validation_set.datasets[val_idx][:][1][:,model.kernel_size:,:].detach().cpu().numpy(), axis=0)\n",
    "test_plot_data = np.concatenate(test_pred.detach().cpu().numpy(), axis=0)"
   ]
  },
  {
   "cell_type": "code",
   "execution_count": 35,
   "id": "9015aadf-be4a-4a20-a24d-c2507af99dd3",
   "metadata": {},
   "outputs": [
    {
     "data": {
      "image/png": "[encoded data removed]",
      "text/plain": [
       "<Figure size 936x432 with 2 Axes>"
      ]
     },
     "metadata": {
      "needs_background": "light"
     },
     "output_type": "display_data"
    }
   ],
   "source": [
    "dt = 0.5\n",
    "plt.figure(figsize=(13,3 * output_size))\n",
    "tvec = np.linspace(0, val_plot_data.shape[0] * dt, val_plot_data.shape[0])\n",
    "for idx in range(output_size):\n",
    "    plt.subplot(output_size, 1, idx+1)\n",
    "    plt.plot(tvec, val_plot_data[:,idx], color='k', label='True Voltage')\n",
    "    # plt.plot(test_pred, color=f'C{idx}', label='Predicted Voltage')\n",
    "    plt.plot(tvec, test_plot_data[:,idx], color=f'C{idx}', label='Predicted Voltage')\n",
    "    plt.xlim(0,1000)\n",
    "    plt.title(vsec_names[idx], fontsize=14)\n",
    "    # plt.ylim(-0.5,1.8)\n",
    "plt.legend()\n",
    "plt.tight_layout()"
   ]
  },
  {
   "cell_type": "code",
   "execution_count": null,
   "id": "3675e706-741c-4287-a7b4-d98fa92bb362",
   "metadata": {},
   "outputs": [],
   "source": []
  },
  {
   "cell_type": "code",
   "execution_count": 71,
   "id": "a3041f19-1e37-48d3-a421-d91f9979b22f",
   "metadata": {},
   "outputs": [
    {
     "data": {
      "text/plain": [
       "(14436, 9)"
      ]
     },
     "execution_count": 71,
     "metadata": {},
     "output_type": "execute_result"
    }
   ],
   "source": [
    "np.concatenate(test_pred, axis=0).shape"
   ]
  },
  {
   "cell_type": "code",
   "execution_count": null,
   "id": "b499c418-10c8-4f7d-9315-7cf04f5ab609",
   "metadata": {},
   "outputs": [],
   "source": []
  },
  {
   "cell_type": "code",
   "execution_count": null,
   "id": "59e2ffae-6623-49af-b32f-04dcf4aea77f",
   "metadata": {},
   "outputs": [],
   "source": []
  },
  {
   "cell_type": "code",
   "execution_count": null,
   "id": "bb1bdede-52b7-4661-82f7-48d17ba0350c",
   "metadata": {},
   "outputs": [],
   "source": []
  },
  {
   "cell_type": "code",
   "execution_count": null,
   "id": "d39faa9f-c933-4c8f-9682-5f94eaa4ab8f",
   "metadata": {},
   "outputs": [],
   "source": []
  }
 ],
 "metadata": {
  "kernelspec": {
   "display_name": "Python 3.9.12 ('base')",
   "language": "python",
   "name": "python3"
  },
  "language_info": {
   "codemirror_mode": {
    "name": "ipython",
    "version": 3
   },
   "file_extension": ".py",
   "mimetype": "text/x-python",
   "name": "python",
   "nbconvert_exporter": "python",
   "pygments_lexer": "ipython3",
   "version": "3.9.12"
  },
  "vscode": {
   "interpreter": {
    "hash": "0b48ab3240dc41ffa029ce879fa5e087e0a83cbe7a72ef65a19cb71535771faa"
   }
  }
 },
 "nbformat": 4,
 "nbformat_minor": 5
}
